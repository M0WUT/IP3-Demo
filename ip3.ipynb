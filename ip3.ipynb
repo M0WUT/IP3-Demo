{
 "cells": [
  {
   "cell_type": "markdown",
   "metadata": {},
   "source": [
    "# Ideal Amplifier with linear response\n",
    "Output is exact copy of the input with some gain applied\n",
    "\n",
    "Input = $A sin(\\omega t) $\n",
    "\n",
    "Output = $ a_1 * A sin(\\omega t) $\n",
    "\n",
    "General condition for a system to be considered linear is $ g(f_1 + f_2) = g(f_1) + g(f_2) $"
   ]
  },
  {
   "cell_type": "code",
   "execution_count": 95,
   "metadata": {},
   "outputs": [],
   "source": [
    "import numpy as np\n",
    "import matplotlib.pyplot as plt\n",
    "from ipywidgets import interact , FloatSlider, IntSlider\n",
    "\n",
    "SAMPLE_FREQUENCY = 100000\n",
    "SAMPLE_TIME = 2\n",
    "FFT_MAX_FREQUENCY = 50\n",
    "INPUT_AMPLITUDE = 1\n",
    "\n",
    "# Gain function\n",
    "def update(input_freq, gain):\n",
    "    # Generate plots\n",
    "    fig, axes = plt.subplots(1,3)\n",
    "    fig.set_figwidth(20)\n",
    "    time_domain_graph, fft_input_graph, fft_output_graph = axes\n",
    "\n",
    "    # Generate input / output signals\n",
    "    t = np.linspace(0, SAMPLE_TIME, SAMPLE_FREQUENCY * SAMPLE_TIME)\n",
    "    input_sine_wave = INPUT_AMPLITUDE * np.sin(2 * np.pi * input_freq * t)\n",
    "    output_sine_wave = gain * input_sine_wave\n",
    "   \n",
    "    # Plot stuff\n",
    "    time_domain_graph.plot(t[:SAMPLE_FREQUENCY], input_sine_wave[:SAMPLE_FREQUENCY], label=\"Input\")\n",
    "    time_domain_graph.plot(t[:SAMPLE_FREQUENCY], output_sine_wave[:SAMPLE_FREQUENCY], label=\"Output\")\n",
    "    fft_input_graph.plot([SAMPLE_FREQUENCY / SAMPLE_TIME*x for x in t[:FFT_MAX_FREQUENCY * SAMPLE_TIME]], 6 + 20 * np.log10(np.abs(np.fft.fft(input_sine_wave, norm=\"forward\")))[:FFT_MAX_FREQUENCY * SAMPLE_TIME])\n",
    "    fft_output_graph.plot([SAMPLE_FREQUENCY / SAMPLE_TIME*x for x in t[:FFT_MAX_FREQUENCY * SAMPLE_TIME]], 6 + 20 * np.log10(np.abs(np.fft.fft(output_sine_wave, norm=\"forward\")))[:FFT_MAX_FREQUENCY * SAMPLE_TIME])\n",
    "\n",
    "    ###############################\n",
    "    # Miscellaneous display stuff #\n",
    "    ###############################\n",
    "\n",
    "    # Time domain plot\n",
    "    time_domain_graph.set_xlabel(\"Time (s)\")\n",
    "    time_domain_graph.set_ylabel(\"Amplitude\")\n",
    "    time_domain_graph.set_title(\"Time Domain\")\n",
    "    time_domain_graph.set_ylim((-3.5, 3.5))\n",
    "    time_domain_graph.legend()\n",
    "    time_domain_graph.grid()\n",
    "    \n",
    "    # FFT plot of input signal\n",
    "    fft_input_graph.set_xlim((0, FFT_MAX_FREQUENCY))\n",
    "    fft_input_graph.set_title(\"FFT(Input Signal)\")\n",
    "    \n",
    "    \n",
    "    # FFT plot of output signal\n",
    "    fft_output_graph.set_xlim((0, FFT_MAX_FREQUENCY))\n",
    "    fft_output_graph.set_title(\"FFT(Output Signal)\")\n",
    "    \n",
    "    for graph in [fft_input_graph, fft_output_graph]:\n",
    "        graph.set_ylim((-60, 10))\n",
    "        graph.grid()\n",
    "        graph.set_xlabel(\"Freq (Hz)\")\n",
    "        graph.set_ylabel(\"Amplitude (dB)\")\n",
    "\n",
    "    plt.show()\n",
    "\n",
    "# interact(update, input_freq=IntSlider(min=1, max=10, step=1, value=5), gain=FloatSlider(min=0.1, max=3, step=0.1, value=1))\n",
    "\n",
    "\n"
   ]
  },
  {
   "cell_type": "code",
   "execution_count": 96,
   "metadata": {},
   "outputs": [
    {
     "data": {
      "application/vnd.jupyter.widget-view+json": {
       "model_id": "777ac05f1fa54838b916516ff25b0d38",
       "version_major": 2,
       "version_minor": 0
      },
      "text/plain": [
       "interactive(children=(IntSlider(value=5, description='input_freq', max=10, min=1), FloatSlider(value=1.0, desc…"
      ]
     },
     "metadata": {},
     "output_type": "display_data"
    },
    {
     "data": {
      "text/plain": [
       "<function __main__.update(input_freq, gain)>"
      ]
     },
     "execution_count": 96,
     "metadata": {},
     "output_type": "execute_result"
    }
   ],
   "source": [
    "interact(update, input_freq=IntSlider(min=1, max=10, step=1, value=5), gain=FloatSlider(min=-3, max=3, step=0.25, value=1))"
   ]
  },
  {
   "cell_type": "markdown",
   "metadata": {},
   "source": [
    "# Amplifier with Quadratic Gain\n",
    "\n",
    "As well as amplifying the signal, also has a component of the signal squared.\n",
    "\n",
    "$$ Input = \\textcolor{lime}{A * sin(\\omega t)} $$\n",
    "\n",
    "$$Output =  a_1 * A sin(\\omega t) + a_2 * (A sin(\\omega t))^2 $$\n",
    "\n",
    "$$ =  a_1 A sin(\\omega t) + a_2 A^2 \\textcolor{orange}{sin^2(\\omega t)} $$\n",
    "\n",
    "$$ =  a_1 A sin(\\omega t) + a_2 A^2 * \\textcolor{orange}{\\frac{1-cos(2\\omega t)}{2}}$$\n",
    "\n",
    "\n",
    "$$ = \\textcolor{yellow}{\\frac{a_2 A^2}{2}} + \\textcolor{lime}{a_1A * sin(\\omega t)} - \\textcolor{cyan}{\\frac{a_2A^2}{2} * cos(2\\omega t)} $$\n",
    "\n"
   ]
  },
  {
   "cell_type": "code",
   "execution_count": 97,
   "metadata": {},
   "outputs": [],
   "source": [
    "import numpy as np\n",
    "import matplotlib.pyplot as plt\n",
    "from ipywidgets import interact, FloatSlider, IntSlider, Layout\n",
    "\n",
    "SAMPLE_FREQUENCY = 100000\n",
    "SAMPLE_TIME = 2\n",
    "FFT_MAX_FREQUENCY = 50\n",
    "INPUT_AMPLITUDE = 1\n",
    "INPUT_FREQUENCY = 10\n",
    "\n",
    "\n",
    "# Gain function\n",
    "def update(fundamental_freq, input_amplitude, fundamental_gain, squared_gain):\n",
    "    # Generate plots\n",
    "    fig, axes = plt.subplots(1, 3)\n",
    "    fig.set_figwidth(20)\n",
    "    time_domain_graph, fft_input_graph, fft_output_graph = axes\n",
    "\n",
    "    # Generate input / output signals\n",
    "    t = np.linspace(0, SAMPLE_TIME, SAMPLE_FREQUENCY * SAMPLE_TIME)\n",
    "    input_sine_wave = input_amplitude * \\\n",
    "        np.sin(2 * np.pi * fundamental_freq * t)\n",
    "    output_sine_wave = fundamental_gain * input_sine_wave + \\\n",
    "        squared_gain * input_sine_wave ** 2\n",
    "\n",
    "    # Plot stuff\n",
    "    time_domain_graph.plot(t[:SAMPLE_FREQUENCY],\n",
    "                           input_sine_wave[:SAMPLE_FREQUENCY], label=\"Input\")\n",
    "    time_domain_graph.plot(\n",
    "        t[:SAMPLE_FREQUENCY], output_sine_wave[:SAMPLE_FREQUENCY], label=\"Output\")\n",
    "    fft_input_graph.plot([SAMPLE_FREQUENCY / SAMPLE_TIME*x for x in t[:FFT_MAX_FREQUENCY * SAMPLE_TIME]], 6 +\n",
    "                         20 * np.log10(np.abs(np.fft.fft(input_sine_wave, norm=\"forward\")))[:FFT_MAX_FREQUENCY * SAMPLE_TIME])\n",
    "    fft_output_graph.plot([SAMPLE_FREQUENCY / SAMPLE_TIME*x for x in t[:FFT_MAX_FREQUENCY * SAMPLE_TIME]], 6 +\n",
    "                          20 * np.log10(np.abs(np.fft.fft(output_sine_wave, norm=\"forward\")))[:FFT_MAX_FREQUENCY * SAMPLE_TIME])\n",
    "\n",
    "    ###############################\n",
    "    # Miscellaneous display stuff #\n",
    "    ###############################\n",
    "\n",
    "    # Time domain plot\n",
    "    time_domain_graph.set_xlabel(\"Time (s)\")\n",
    "    time_domain_graph.set_ylabel(\"Amplitude\")\n",
    "    time_domain_graph.set_title(\"Time Domain\")\n",
    "    time_domain_graph.set_ylim((-3.5, 3.5))\n",
    "    time_domain_graph.legend()\n",
    "    time_domain_graph.grid()\n",
    "\n",
    "    # FFT plot of input signal\n",
    "    fft_input_graph.set_xlim((0, FFT_MAX_FREQUENCY))\n",
    "    fft_input_graph.set_title(\"FFT(Input Signal)\")\n",
    "\n",
    "    # FFT plot of output signal\n",
    "    fft_output_graph.set_xlim((0, FFT_MAX_FREQUENCY))\n",
    "    fft_output_graph.set_title(\"FFT(Output Signal)\")\n",
    "\n",
    "    for graph in [fft_input_graph, fft_output_graph]:\n",
    "        graph.set_xlim((-10, FFT_MAX_FREQUENCY))\n",
    "        graph.set_ylim((-60, 10))\n",
    "        graph.grid()\n",
    "        graph.set_xlabel(\"Freq (Hz)\")\n",
    "        graph.set_ylabel(\"Amplitude (dB)\")\n",
    "\n",
    "    plt.show()\n",
    "\n",
    "DEFAULT_LAYOUT = Layout(width=\"50%\")\n",
    "DEFAULT_STYLE = {\"description_width\": \"200px\"}\n",
    "\n",
    "\n"
   ]
  },
  {
   "cell_type": "code",
   "execution_count": 98,
   "metadata": {},
   "outputs": [
    {
     "data": {
      "application/vnd.jupyter.widget-view+json": {
       "model_id": "f74c3dd79d7b463ea7690d90a9a6361f",
       "version_major": 2,
       "version_minor": 0
      },
      "text/plain": [
       "interactive(children=(IntSlider(value=5, description='fundamental_freq', layout=Layout(width='50%'), max=10, m…"
      ]
     },
     "metadata": {},
     "output_type": "display_data"
    },
    {
     "data": {
      "text/plain": [
       "<function __main__.update(fundamental_freq, input_amplitude, fundamental_gain, squared_gain)>"
      ]
     },
     "execution_count": 98,
     "metadata": {},
     "output_type": "execute_result"
    }
   ],
   "source": [
    "interact(update, fundamental_freq=IntSlider(min=1, max=10, step=1, value=5, layout=DEFAULT_LAYOUT, style=DEFAULT_STYLE), input_amplitude=FloatSlider(min=0.1, max=2, step=0.1, value=1, layout=DEFAULT_LAYOUT, style=DEFAULT_STYLE), fundamental_gain=FloatSlider(min=0, max=3, step=0.1, value=2, layout=DEFAULT_LAYOUT, style=DEFAULT_STYLE), squared_gain=FloatSlider(min=-1, max=1, step=0.1, value=0, layout=DEFAULT_LAYOUT, style=DEFAULT_STYLE))"
   ]
  },
  {
   "cell_type": "markdown",
   "metadata": {},
   "source": [
    "# Amplifier with Cubic Gain\n",
    "\n",
    "As well as amplifying the signal, also has a component of the signal cubed.\n",
    "\n",
    "$$ Input = \\textcolor{lime}{A * sin(\\omega t)} $$\n",
    "\n",
    "$$Output =  a_1 * A sin(\\omega t) + a_3 * (A sin(\\omega t))^3 $$\n",
    "\n",
    "$$ =  a_1 A sin(\\omega t) + a_3 A^3 \\textcolor{orange}{sin^3(\\omega t)} $$\n",
    "\n",
    "$$ =  a_1 A sin(\\omega t) + a_3 A^3 * \\textcolor{orange}{\\frac{3 sin(\\omega t) - sin(3 \\omega t)}{4}}$$\n",
    "\n",
    "\n",
    "$$ = \\textcolor{lime}{(a_1A + \\frac{3 a_3 A^3}{4}) * sin(\\omega t)} - \\textcolor{magenta}{\\frac{a_3 A^3}{4} * sin(3\\omega t)} $$"
   ]
  },
  {
   "cell_type": "code",
   "execution_count": 99,
   "metadata": {},
   "outputs": [],
   "source": [
    "import numpy as np\n",
    "import matplotlib.pyplot as plt\n",
    "from ipywidgets import interact, FloatSlider, IntSlider, Layout\n",
    "\n",
    "SAMPLE_FREQUENCY = 100000\n",
    "SAMPLE_TIME = 2\n",
    "FFT_MAX_FREQUENCY = 50\n",
    "INPUT_AMPLITUDE = 1\n",
    "INPUT_FREQUENCY = 10\n",
    "\n",
    "\n",
    "# Gain function\n",
    "def update(fundamental_freq, input_amplitude, fundamental_gain, cubic_gain):\n",
    "    # Generate plots\n",
    "    fig, axes = plt.subplots(1, 3)\n",
    "    fig.set_figwidth(20)\n",
    "    time_domain_graph, fft_input_graph, fft_output_graph = axes\n",
    "\n",
    "    # Generate input / output signals\n",
    "    t = np.linspace(0, SAMPLE_TIME, SAMPLE_FREQUENCY * SAMPLE_TIME)\n",
    "    input_sine_wave = input_amplitude * \\\n",
    "        np.sin(2 * np.pi * fundamental_freq * t)\n",
    "    output_sine_wave = fundamental_gain * input_sine_wave + \\\n",
    "        cubic_gain * input_sine_wave ** 3\n",
    "\n",
    "    # Plot stuff\n",
    "    time_domain_graph.plot(t[:SAMPLE_FREQUENCY],\n",
    "                           input_sine_wave[:SAMPLE_FREQUENCY], label=\"Input\")\n",
    "    time_domain_graph.plot(\n",
    "        t[:SAMPLE_FREQUENCY], output_sine_wave[:SAMPLE_FREQUENCY], label=\"Output\")\n",
    "    fft_input_graph.plot([SAMPLE_FREQUENCY / SAMPLE_TIME*x for x in t[:FFT_MAX_FREQUENCY * SAMPLE_TIME]], 6 +\n",
    "                         20 * np.log10(np.abs(np.fft.fft(input_sine_wave, norm=\"forward\")))[:FFT_MAX_FREQUENCY * SAMPLE_TIME])\n",
    "    fft_output_graph.plot([SAMPLE_FREQUENCY / SAMPLE_TIME*x for x in t[:FFT_MAX_FREQUENCY * SAMPLE_TIME]], 6 +\n",
    "                          20 * np.log10(np.abs(np.fft.fft(output_sine_wave, norm=\"forward\")))[:FFT_MAX_FREQUENCY * SAMPLE_TIME])\n",
    "\n",
    "    ###############################\n",
    "    # Miscellaneous display stuff #\n",
    "    ###############################\n",
    "\n",
    "    # Time domain plot\n",
    "    time_domain_graph.set_xlabel(\"Time (s)\")\n",
    "    time_domain_graph.set_ylabel(\"Amplitude\")\n",
    "    time_domain_graph.set_title(\"Time Domain\")\n",
    "    time_domain_graph.set_ylim((-3.5, 3.5))\n",
    "    time_domain_graph.legend()\n",
    "    time_domain_graph.grid()\n",
    "\n",
    "    # FFT plot of input signal\n",
    "    fft_input_graph.set_xlim((0, FFT_MAX_FREQUENCY))\n",
    "    fft_input_graph.set_title(\"FFT(Input Signal)\")\n",
    "\n",
    "    # FFT plot of output signal\n",
    "    fft_output_graph.set_xlim((0, FFT_MAX_FREQUENCY))\n",
    "    fft_output_graph.set_title(\"FFT(Output Signal)\")\n",
    "\n",
    "    for graph in [fft_input_graph, fft_output_graph]:\n",
    "        graph.set_xlim((-10, FFT_MAX_FREQUENCY))\n",
    "        graph.set_ylim((-60, 10))\n",
    "        graph.grid()\n",
    "        graph.set_xlabel(\"Freq (Hz)\")\n",
    "        graph.set_ylabel(\"Amplitude (dB)\")\n",
    "\n",
    "    plt.show()\n",
    "\n",
    "DEFAULT_LAYOUT = Layout(width=\"50%\")\n",
    "DEFAULT_STYLE = {\"description_width\": \"200px\"}\n"
   ]
  },
  {
   "cell_type": "code",
   "execution_count": 100,
   "metadata": {},
   "outputs": [
    {
     "data": {
      "application/vnd.jupyter.widget-view+json": {
       "model_id": "18c97ec22e29474099428ec13d32f041",
       "version_major": 2,
       "version_minor": 0
      },
      "text/plain": [
       "interactive(children=(IntSlider(value=5, description='fundamental_freq', layout=Layout(width='50%'), max=10, m…"
      ]
     },
     "metadata": {},
     "output_type": "display_data"
    },
    {
     "data": {
      "text/plain": [
       "<function __main__.update(fundamental_freq, input_amplitude, fundamental_gain, cubic_gain)>"
      ]
     },
     "execution_count": 100,
     "metadata": {},
     "output_type": "execute_result"
    }
   ],
   "source": [
    "interact(update, fundamental_freq=IntSlider(min=1, max=10, step=1, value=5, layout=DEFAULT_LAYOUT, style=DEFAULT_STYLE), input_amplitude=FloatSlider(min=0.1, max=2, step=0.1, value=1, layout=DEFAULT_LAYOUT, style=DEFAULT_STYLE), fundamental_gain=FloatSlider(min=0, max=3, step=0.1, value=2, layout=DEFAULT_LAYOUT, style=DEFAULT_STYLE), cubic_gain=FloatSlider(min=-1, max=1, step=0.1, value=0, layout=DEFAULT_LAYOUT, style=DEFAULT_STYLE))"
   ]
  },
  {
   "cell_type": "markdown",
   "metadata": {},
   "source": [
    "# Amplifier with Cubic Gain\n",
    "\n",
    "This is much worse when multiple signals are present at the input.\n",
    "\n",
    "$$ Input = Asin(\\omega _1 t) + Asin(\\omega _2 t) $$\n",
    "\n",
    "$$Output =  a_1A * (sin(\\omega _1 t) + sin(\\omega _2 t)) + a_3A^3 * \\textcolor{orange}{(sin(\\omega _1 t) + sin(\\omega _2 t))^3} $$\n",
    "\n",
    "$$ =  a_1 * (sin(\\omega _1 t) + sin(\\omega _2 t)) + a_3 A^3 * \\textcolor{orange}{(sin^3 (\\omega_1 t) + 3 sin^2 (\\omega _1 t)sin(\\omega _2 t) + 3 sin(\\omega _1 t)sin^2 (\\omega _ 2 t)  + sin^3 (\\omega_2 t))} $$\n",
    "\n",
    "$$ =  a_1 * (sin(\\omega _1 t) + sin(\\omega _2 t)) + a_3 A^3 * ( \\textcolor{yellow}{sin^3 (\\omega_1 t)} + \\textcolor{red}{3 sin^2 (\\omega _1 t)sin(\\omega _2 t)} + \\textcolor{lime}{3 sin(\\omega _1 t)sin^2 (\\omega _ 2 t)}  + \\textcolor{cyan}{sin^3 (\\omega_2 t)}) $$\n",
    "\n",
    "$$ =  a_1 * (sin(\\omega _1 t) + sin(\\omega _2 t)) + a_3 A^3 * ( \\textcolor{yellow}{\\frac{3}{4}sin(\\omega _1 t) - \\frac{1}{4}sin(3 \\omega _1 t)} + \\textcolor{red}{\\frac{3}{2}sin(\\omega _2 t) - \\frac{3}{4} sin ((2\\omega _1 + \\omega _2)t) + \\frac{3}{4} sin ((2\\omega _1 - \\omega _2)t)} + $$\n",
    "$$ \\textcolor{lime}{\\frac{3}{2}sin(\\omega _1 t) - \\frac{3}{4} sin ((2\\omega _2 + \\omega _1)t) + \\frac{3}{4} sin ((2\\omega _2 - \\omega _1)t)} + \\textcolor{cyan}{\\frac{3}{4}sin(\\omega _2 t) - \\frac{1}{4}sin(3 \\omega _2 t)}) $$\n"
   ]
  },
  {
   "cell_type": "markdown",
   "metadata": {},
   "source": [
    "$ = $\n",
    "\n",
    "Inband: $ (a_1A + \\frac{9 a_3 A^3}{4}) * (sin(\\omega _1 t) + sin(\\omega _2 t)) $\n",
    "\n",
    "Third-order Intermod: $ + \\frac{3a_3 A^3}{4} * (sin ((2\\omega _1 - \\omega _2)t) + sin ((2\\omega _2 - \\omega _1)t)) $\n",
    "\n",
    "Second-order Intermod:  $ - \\frac{3a_3 A^3}{4} * (sin ((2\\omega _1 + \\omega _2)t) + sin ((2\\omega _2 + \\omega _1)t)) $\n",
    "\n",
    "Third harmonics: $ - \\frac{a_3 A^3}{4} * (sin(3 \\omega _1 t) + sin(3 \\omega _2 t)) $"
   ]
  },
  {
   "cell_type": "code",
   "execution_count": 101,
   "metadata": {},
   "outputs": [],
   "source": [
    "import numpy as np\n",
    "import matplotlib.pyplot as plt\n",
    "from ipywidgets import interact, FloatSlider, IntSlider, Layout\n",
    "\n",
    "SAMPLE_FREQUENCY = 100000\n",
    "SAMPLE_TIME = 2\n",
    "FFT_MAX_FREQUENCY_2 = 100\n",
    "INPUT_AMPLITUDE = 1\n",
    "INPUT_FREQUENCY_1 = 20\n",
    "INPUT_FREQUENCY_2 = 23\n",
    "\n",
    "\n",
    "# Gain function\n",
    "def update(input_amplitude, fundamental_gain, cubic_gain):\n",
    "    # Generate plots\n",
    "    fig, axes = plt.subplots(1, 3)\n",
    "    fig.set_figwidth(20)\n",
    "    time_domain_graph, fft_input_graph, fft_output_graph = axes\n",
    "\n",
    "    # Generate input / output signals\n",
    "    t = np.linspace(0, SAMPLE_TIME, SAMPLE_FREQUENCY * SAMPLE_TIME)\n",
    "    input_sine_wave = input_amplitude * (np.sin(2 * np.pi * INPUT_FREQUENCY_1 * t) + np.sin(2 * np.pi * INPUT_FREQUENCY_2 * t))\n",
    "    output_sine_wave = fundamental_gain * input_sine_wave + \\\n",
    "        cubic_gain * input_sine_wave ** 3\n",
    "\n",
    "    # Plot stuff\n",
    "    time_domain_graph.plot(t[:SAMPLE_FREQUENCY],\n",
    "                           input_sine_wave[:SAMPLE_FREQUENCY], label=\"Input\")\n",
    "    time_domain_graph.plot(\n",
    "        t[:SAMPLE_FREQUENCY], output_sine_wave[:SAMPLE_FREQUENCY], label=\"Output\")\n",
    "    fft_input_graph.plot([SAMPLE_FREQUENCY / SAMPLE_TIME*x for x in t[:FFT_MAX_FREQUENCY_2 * SAMPLE_TIME]], 6 +\n",
    "                         20 * np.log10(np.abs(np.fft.fft(input_sine_wave, norm=\"forward\")))[:FFT_MAX_FREQUENCY_2 * SAMPLE_TIME])\n",
    "    fft_output_graph.plot([SAMPLE_FREQUENCY / SAMPLE_TIME*x for x in t[:FFT_MAX_FREQUENCY_2 * SAMPLE_TIME]], 6 +\n",
    "                          20 * np.log10(np.abs(np.fft.fft(output_sine_wave, norm=\"forward\")))[:FFT_MAX_FREQUENCY_2 * SAMPLE_TIME])\n",
    "\n",
    "    ###############################\n",
    "    # Miscellaneous display stuff #\n",
    "    ###############################\n",
    "\n",
    "    # Time domain plot\n",
    "    time_domain_graph.set_xlabel(\"Time (s)\")\n",
    "    time_domain_graph.set_ylabel(\"Amplitude\")\n",
    "    time_domain_graph.set_title(\"Time Domain\")\n",
    "    time_domain_graph.set_ylim((-3.5, 3.5))\n",
    "    time_domain_graph.legend()\n",
    "    time_domain_graph.grid()\n",
    "\n",
    "    # FFT plot of input signal\n",
    "    fft_input_graph.set_xlim((0, FFT_MAX_FREQUENCY_2))\n",
    "    fft_input_graph.set_title(\"FFT(Input Signal)\")\n",
    "\n",
    "    # FFT plot of output signal\n",
    "    fft_output_graph.set_xlim((0, FFT_MAX_FREQUENCY_2))\n",
    "    fft_output_graph.set_title(\"FFT(Output Signal)\")\n",
    "\n",
    "    for graph in [fft_input_graph, fft_output_graph]:\n",
    "        graph.set_xlim((-10, FFT_MAX_FREQUENCY_2))\n",
    "        graph.set_ylim((-60, 10))\n",
    "        graph.grid()\n",
    "        graph.set_xlabel(\"Freq (Hz)\")\n",
    "        graph.set_ylabel(\"Amplitude (dB)\")\n",
    "\n",
    "    plt.show()\n",
    "\n",
    "DEFAULT_LAYOUT = Layout(width=\"50%\")\n",
    "DEFAULT_STYLE = {\"description_width\": \"200px\"}\n"
   ]
  },
  {
   "cell_type": "code",
   "execution_count": 102,
   "metadata": {},
   "outputs": [
    {
     "data": {
      "application/vnd.jupyter.widget-view+json": {
       "model_id": "2977d591e6104038bfb2f9b84000be0b",
       "version_major": 2,
       "version_minor": 0
      },
      "text/plain": [
       "interactive(children=(FloatSlider(value=1.0, description='input_amplitude', layout=Layout(width='50%'), max=2.…"
      ]
     },
     "metadata": {},
     "output_type": "display_data"
    },
    {
     "data": {
      "text/plain": [
       "<function __main__.update(input_amplitude, fundamental_gain, cubic_gain)>"
      ]
     },
     "execution_count": 102,
     "metadata": {},
     "output_type": "execute_result"
    }
   ],
   "source": [
    "interact(update, input_amplitude=FloatSlider(min=0.1, max=2, step=0.1, value=1, layout=DEFAULT_LAYOUT, style=DEFAULT_STYLE), fundamental_gain=FloatSlider(min=0, max=3, step=0.1, value=2, layout=DEFAULT_LAYOUT, style=DEFAULT_STYLE), cubic_gain=FloatSlider(min=-1, max=1, step=0.1, value=0, layout=DEFAULT_LAYOUT, style=DEFAULT_STYLE))"
   ]
  },
  {
   "cell_type": "code",
   "execution_count": 103,
   "metadata": {},
   "outputs": [],
   "source": [
    "import numpy as np\n",
    "import matplotlib.pyplot as plt\n",
    "from ipywidgets import interact, FloatSlider, IntSlider, Layout\n",
    "\n",
    "SAMPLE_FREQUENCY = 100000\n",
    "SAMPLE_TIME = 2\n",
    "INPUT_AMPLITUDE = 1\n",
    "INPUT_FREQUENCY_1 = 20\n",
    "INPUT_FREQUENCY_2 = 23\n",
    "\n",
    "\n",
    "# Gain function\n",
    "def update(fundamental_gain, cubic_gain):\n",
    "    # Generate plots\n",
    "    fig, ax = plt.subplots()\n",
    "    fig.set_figwidth(20)\n",
    "    \n",
    "    # Input Amplitude (linear)\n",
    "    input_amplitude = np.logspace(-2, 2, 10000)\n",
    "\n",
    "\n",
    "    \n",
    "    # Plot stuff\n",
    "    ax.plot(20*np.log10(input_amplitude), 20*np.log10(np.abs(fundamental_gain * input_amplitude)), linestyle=\"--\", label=\"Wanted terms (linear)\")\n",
    "    ax.plot(20*np.log10(input_amplitude), 20*np.log10(np.abs(fundamental_gain * input_amplitude + 9/4 * cubic_gain * input_amplitude ** 3)), label=\"Wanted terms\")\n",
    "    ax.plot(20*np.log10(input_amplitude), 20*np.log10(np.abs(3/4 * cubic_gain * input_amplitude ** 3)), label=\"IMD3 products\")    \n",
    "    ###############################\n",
    "    # Miscellaneous display stuff #\n",
    "    ###############################\n",
    "\n",
    " \n",
    "    ax.set_xlabel(\"Input Power (dB)\")\n",
    "    ax.set_ylabel(\"Output Power (dB)\")\n",
    "    ax.set_ylim((-100, 50))\n",
    "    ax.legend()\n",
    "    ax.grid()\n",
    "\n",
    "    # # FFT plot of input signal\n",
    "    # fft_input_graph.set_xlim((0, FFT_MAX_FREQUENCY))\n",
    "    # fft_input_graph.set_title(\"FFT(Input Signal)\")\n",
    "\n",
    "    # # FFT plot of output signal\n",
    "    # fft_output_graph.set_xlim((0, FFT_MAX_FREQUENCY))\n",
    "    # fft_output_graph.set_title(\"FFT(Output Signal)\")\n",
    "\n",
    "    # for graph in [fft_input_graph, fft_output_graph]:\n",
    "    #     graph.set_xlim((-10, FFT_MAX_FREQUENCY))\n",
    "    #     graph.set_ylim((-60, 10))\n",
    "    #     graph.grid()\n",
    "    #     graph.set_xlabel(\"Freq (Hz)\")\n",
    "    #     graph.set_ylabel(\"Amplitude (dB)\")\n",
    "\n",
    "    plt.show()\n",
    "\n",
    "DEFAULT_LAYOUT = Layout(width=\"50%\")\n",
    "DEFAULT_STYLE = {\"description_width\": \"200px\"}\n"
   ]
  },
  {
   "cell_type": "code",
   "execution_count": 104,
   "metadata": {},
   "outputs": [
    {
     "data": {
      "application/vnd.jupyter.widget-view+json": {
       "model_id": "eae08743a3e84065968521e2266a4ea9",
       "version_major": 2,
       "version_minor": 0
      },
      "text/plain": [
       "interactive(children=(FloatSlider(value=2.0, description='fundamental_gain', layout=Layout(width='50%'), max=3…"
      ]
     },
     "metadata": {},
     "output_type": "display_data"
    },
    {
     "data": {
      "text/plain": [
       "<function __main__.update(fundamental_gain, cubic_gain)>"
      ]
     },
     "execution_count": 104,
     "metadata": {},
     "output_type": "execute_result"
    }
   ],
   "source": [
    "interact(update, fundamental_gain=FloatSlider(min=0.1, max=3, step=0.1, value=2, layout=DEFAULT_LAYOUT, style=DEFAULT_STYLE), cubic_gain=FloatSlider(min=-4, max=-0.1, step=0.1, value=-1, layout=DEFAULT_LAYOUT, style=DEFAULT_STYLE))"
   ]
  }
 ],
 "metadata": {
  "kernelspec": {
   "display_name": "Python 3 (ipykernel)",
   "language": "python",
   "name": "python3"
  },
  "language_info": {
   "codemirror_mode": {
    "name": "ipython",
    "version": 3
   },
   "file_extension": ".py",
   "mimetype": "text/x-python",
   "name": "python",
   "nbconvert_exporter": "python",
   "pygments_lexer": "ipython3",
   "version": "3.11.0"
  }
 },
 "nbformat": 4,
 "nbformat_minor": 4
}
